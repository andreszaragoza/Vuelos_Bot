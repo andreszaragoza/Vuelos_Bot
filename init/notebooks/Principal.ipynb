{
 "cells": [
  {
   "cell_type": "code",
   "execution_count": null,
   "id": "72e9e054",
   "metadata": {},
   "outputs": [
    {
     "ename": "",
     "evalue": "",
     "output_type": "error",
     "traceback": [
      "\u001b[1;31mRunning cells with 'vuelos-bot (Python 3.11.11)' requires the ipykernel package.\n",
      "\u001b[1;31mInstall 'ipykernel' into the Python environment. \n",
      "\u001b[1;31mCommand: 'c:/Users/anoni/Documents/GitHub/Vuelos_Bot/.venv/Scripts/python.exe -m pip install ipykernel -U --force-reinstall'"
     ]
    }
   ],
   "source": [
    "import os\n",
    "import time\n",
    "from datetime import datetime, timedelta\n",
    "from dotenv import load_dotenv\n",
    "\n",
    "# Cargar variables de entorno\n",
    "load_dotenv()\n",
    "\n",
    "# Importar nuestras clases\n",
    "from src import SkyscannerBot, NotificadorTelegram, config\n",
    "\n",
    "\n",
    "def main():\n",
    "    \"\"\"Función principal\"\"\"\n",
    "    \n",
    "    # Verificar API key\n",
    "    if not config.SKYSCANNER_API_KEY:\n",
    "        print(\"❌ Error: SKYSCANNER_API_KEY no configurada\")\n",
    "        return\n",
    "    \n",
    "    # Inicializar bot\n",
    "    bot = SkyscannerBot(config.SKYSCANNER_API_KEY)\n",
    "    \n",
    "    # Cargar alertas existentes\n",
    "    bot.cargar_alertas(config.ARCHIVO_ALERTAS)\n",
    "    \n",
    "    # Configurar notificaciones\n",
    "    notificador = None\n",
    "    if config.TELEGRAM_TOKEN and config.TELEGRAM_CHAT_ID:\n",
    "        notificador = NotificadorTelegram(config.TELEGRAM_TOKEN, config.TELEGRAM_CHAT_ID)\n",
    "        print(\"✅ Notificaciones por Telegram configuradas\")\n",
    "    \n",
    "    # Agregar algunas alertas de ejemplo si no hay ninguna\n",
    "    if not bot.alertas:\n",
    "        print(\"📝 Agregando alertas de ejemplo...\")\n",
    "        fecha_ida = datetime.now() + timedelta(days=30)\n",
    "        fecha_vuelta = fecha_ida + timedelta(days=7)\n",
    "        \n",
    "        bot.agregar_alerta(\"MAD\", \"BCN\", 100, fecha_ida, fecha_vuelta)\n",
    "        bot.agregar_alerta(\"MAD\", \"CDG\", 150, fecha_ida, fecha_vuelta)\n",
    "        \n",
    "        # Guardar alertas\n",
    "        os.makedirs('data', exist_ok=True)\n",
    "        bot.guardar_alertas(config.ARCHIVO_ALERTAS)\n",
    "    \n",
    "    # Ejecutar verificación inicial\n",
    "    print(\"🚀 Realizando verificación inicial...\")\n",
    "    bot.verificar_alertas()\n",
    "    \n",
    "    # Loop principal\n",
    "    print(f\"\\n🤖 Bot iniciado. Verificando cada {config.INTERVALO_VERIFICACION_HORAS} horas...\")\n",
    "    print(\"Presiona Ctrl+C para detener\")\n",
    "    \n",
    "    try:\n",
    "        while True:\n",
    "            time.sleep(config.INTERVALO_VERIFICACION_HORAS * 3600)\n",
    "            bot.verificar_alertas()\n",
    "            bot.guardar_alertas(config.ARCHIVO_ALERTAS)\n",
    "    except KeyboardInterrupt:\n",
    "        print(\"\\n🛑 Bot detenido por el usuario\")\n",
    "        bot.guardar_alertas(config.ARCHIVO_ALERTAS)\n",
    "\n",
    "if __name__ == \"__main__\":\n",
    "    main()"
   ]
  }
 ],
 "metadata": {
  "kernelspec": {
   "display_name": "vuelos-bot",
   "language": "python",
   "name": "python3"
  },
  "language_info": {
   "codemirror_mode": {
    "name": "ipython",
    "version": 3
   },
   "file_extension": ".py",
   "mimetype": "text/x-python",
   "name": "python",
   "nbconvert_exporter": "python",
   "pygments_lexer": "ipython3",
   "version": "3.11.11"
  }
 },
 "nbformat": 4,
 "nbformat_minor": 5
}
